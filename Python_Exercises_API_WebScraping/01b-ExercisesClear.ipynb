{
 "cells": [
  {
   "cell_type": "markdown",
   "metadata": {},
   "source": [
    "**Task 1**:\n",
    "You should create a function that gets weather data from API OpenWeatherMap (https://openweathermap.org/api) for a city.\n",
    "Data values should be held in a dataclass (for example a Weather class). You should obtain city, temperature, humidity, pressure and description of weather. Data should be returned in a dictionary and saved in a JSON file."
   ]
  },
  {
   "cell_type": "code",
   "execution_count": null,
   "metadata": {},
   "outputs": [],
   "source": [
    "import requests\n",
    "import json \n",
    "from dataclasses import dataclass, asdict\n",
    "from datetime import date \n",
    "today = date.today()\n",
    "\n",
    "def GetDataWeather(city: str) -> str:\n",
    "    API_KEY = ''\n",
    "    url = f'http://api.openweathermap.org/data/2.5/weather?q={city}&appid={API_KEY}&units=metric'\n",
    "    try:\n",
    "        r = requests.get(url)\n",
    "        r.raise_for_status()\n",
    "    except requests.exceptions.HTTPError as errh:\n",
    "        print(\"HTTP error:\", errh)\n",
    "        \n",
    "    data_json = r.json()\n",
    "    \n",
    "    @dataclass\n",
    "    class Weather:\n",
    "        country: str\n",
    "        city: str\n",
    "        description: str\n",
    "        temperature: float \n",
    "        pressure: int \n",
    "        humidity: int \n",
    "        \n",
    "    DataWeather = Weather(\n",
    "        country = data_json['sys']['country'],\n",
    "        city = data_json['name'],\n",
    "        description = data_json['weather'][0]['description'],\n",
    "        temperature = data_json['main']['temp'],\n",
    "        pressure = data_json['main']['pressure'],\n",
    "        humidity = data_json['main']['humidity'])\n",
    "    \n",
    "    DataWeatherAsDict = asdict(DataWeather)\n",
    "    \n",
    "    with open(f'Weather {city} {today}.json', 'w') as f:\n",
    "        json.dump(DataWeatherAsDict, f)\n",
    "        \n",
    "    return DataWeatherAsDict"
   ]
  },
  {
   "cell_type": "code",
   "execution_count": 2,
   "metadata": {},
   "outputs": [
    {
     "name": "stdout",
     "output_type": "stream",
     "text": [
      "{'country': 'PL', 'city': 'Warsaw', 'description': 'broken clouds', 'temperature': 0.31, 'pressure': 999, 'humidity': 89}\n",
      "{'country': 'GB', 'city': 'London', 'description': 'broken clouds', 'temperature': 4.82, 'pressure': 1007, 'humidity': 76}\n",
      "{'country': 'SE', 'city': 'Stockholm', 'description': 'clear sky', 'temperature': -5.91, 'pressure': 987, 'humidity': 76}\n",
      "{'country': 'CH', 'city': 'Zurich', 'description': 'clear sky', 'temperature': -0.65, 'pressure': 1013, 'humidity': 86}\n",
      "{'country': 'FR', 'city': 'Paris', 'description': 'light rain', 'temperature': 1.65, 'pressure': 1011, 'humidity': 97}\n"
     ]
    }
   ],
   "source": [
    "print(GetDataWeather('Warsaw'))\n",
    "print(GetDataWeather('London'))\n",
    "print(GetDataWeather('Stockholm'))\n",
    "print(GetDataWeather('Zurich'))\n",
    "print(GetDataWeather('Paris'))"
   ]
  },
  {
   "cell_type": "markdown",
   "metadata": {},
   "source": [
    "**Task 2**: You should write a function that gets information about a film from a tvmaze webiste (https://www.tvmaze.com/api) by using dataclass.\n",
    "Information about a film should include name, genres, language, time, days and rating. You should use a Movies class to hold these values. Data should be returned in a dictionary and saved in a JSON file."
   ]
  },
  {
   "cell_type": "code",
   "execution_count": null,
   "metadata": {},
   "outputs": [],
   "source": [
    "import requests\n",
    "from dataclasses import dataclass, asdict\n",
    "import json \n",
    "from datetime import date\n",
    "\n",
    "def GetMoviesData(Movie: str) -> str:\n",
    "    today = date.today()\n",
    "    url =f'https://api.tvmaze.com/singlesearch/shows?q={Movie}'\n",
    "    try:\n",
    "        r = requests.get(url)\n",
    "        r.raise_for_status \n",
    "    except requests.exceptions.HTTPError as errh:\n",
    "        print(\"HTTP error:\", errh)\n",
    "\n",
    "    DataMovie = r.json()\n",
    "    \n",
    "    @dataclass\n",
    "    class Movies:\n",
    "        Name: str\n",
    "        Genres: str \n",
    "        Language: str\n",
    "        Time: str \n",
    "        Days: str \n",
    "        AverageRating: float \n",
    "        \n",
    "    Movies = Movies(\n",
    "        Name = DataMovie['name'],\n",
    "        Genres = DataMovie['genres'],\n",
    "        Language = DataMovie['language'],\n",
    "        Time = DataMovie['schedule']['time'],\n",
    "        Days = DataMovie['schedule']['days'],\n",
    "        AverageRating = DataMovie['rating']['average']\n",
    "    )\n",
    "    \n",
    "    DictMovies= asdict(Movies)\n",
    "        \n",
    "    with open(f\"{Movie} {today}.json\", 'w') as f:\n",
    "        json.dump(DictMovies, f)\n",
    "\n",
    "    return DictMovies"
   ]
  },
  {
   "cell_type": "code",
   "execution_count": 4,
   "metadata": {},
   "outputs": [
    {
     "name": "stdout",
     "output_type": "stream",
     "text": [
      "{'Name': 'Superman', 'Genres': ['Action', 'Adventure', 'Science-Fiction'], 'Language': 'English', 'Time': '08:30', 'Days': ['Saturday'], 'AverageRating': 6.8}\n",
      "{'Name': 'Gilmore Girls', 'Genres': ['Drama', 'Comedy', 'Romance'], 'Language': 'English', 'Time': '21:00', 'Days': ['Tuesday'], 'AverageRating': 8.1}\n",
      "{'Name': 'House', 'Genres': ['Drama', 'Mystery', 'Medical'], 'Language': 'English', 'Time': '21:00', 'Days': ['Monday'], 'AverageRating': 8.8}\n",
      "{'Name': 'The Penguin', 'Genres': ['Drama', 'Crime'], 'Language': 'English', 'Time': '21:00', 'Days': ['Sunday'], 'AverageRating': 7.5}\n",
      "{'Name': 'All Creatures Great and Small', 'Genres': ['Drama'], 'Language': 'English', 'Time': '21:00', 'Days': ['Thursday'], 'AverageRating': 8.1}\n",
      "{'Name': 'The Event', 'Genres': ['Drama', 'Action', 'Science-Fiction'], 'Language': 'English', 'Time': '21:00', 'Days': ['Monday'], 'AverageRating': 7.4}\n"
     ]
    }
   ],
   "source": [
    "print(GetMoviesData('Superman & Lois'))\n",
    "print(GetMoviesData('Gilmore Girls'))\n",
    "print(GetMoviesData('House'))\n",
    "print(GetMoviesData('The Penguin'))\n",
    "print(GetMoviesData('All Creatures Great and Small'))\n",
    "print(GetMoviesData('The Event'))"
   ]
  },
  {
   "cell_type": "markdown",
   "metadata": {},
   "source": [
    "**Task 3**: \n",
    "You should create a function that analyze the frequency of appearing letters in a text by using https://www.gutenberg.org/\n",
    "Data should be returned in a dictionary. \n",
    "\n",
    "One of examples: \"https://www.gutenberg.org/files/1342/1342-0.txt\"  # Pride and Prejudice by Jane Austen   \n"
   ]
  },
  {
   "cell_type": "code",
   "execution_count": null,
   "metadata": {},
   "outputs": [
    {
     "name": "stdout",
     "output_type": "stream",
     "text": [
      "of her affection.”\n",
      "\n",
      "“and your assurance of it, i suppose, carried immediate convic12331232wq$!##$!!@#\n",
      "abcdefghijklmnopqrstuvwxyz\n",
      "['o', 'f', ' ', 'h', 'e', 'r', ' ', 'a', 'f', 'f', 'e', 'c', 't', 'i', 'o', 'n', '.', '”', '\\r', '\\n', '\\r', '\\n', '“', 'a', 'n', 'd', ' ', 'y', 'o', 'u', 'r', ' ', 'a', 's', 's', 'u', 'r', 'a', 'n', 'c', 'e', ' ', 'o', 'f', ' ', 'i', 't', ',', ' ', 'i', ' ', 's', 'u', 'p', 'p', 'o', 's', 'e', ',', ' ', 'c', 'a', 'r', 'r', 'i', 'e', 'd', ' ', 'i', 'm', 'm', 'e', 'd', 'i', 'a', 't', 'e', ' ', 'c', 'o', 'n', 'v', 'i', 'c', '1', '2', '3', '3', '1', '2', '3', '2', 'w', 'q', '$', '!', '#', '#', '$', '!', '!', '@', '#']\n",
      "['o', 'f', 'h', 'e', 'r', 'a', 'f', 'f', 'e', 'c', 't', 'i', 'o', 'n', 'a', 'n', 'd', 'y', 'o', 'u', 'r', 'a', 's', 's', 'u', 'r', 'a', 'n', 'c', 'e', 'o', 'f', 'i', 't', 'i', 's', 'u', 'p', 'p', 'o', 's', 'e', 'c', 'a', 'r', 'r', 'i', 'e', 'd', 'i', 'm', 'm', 'e', 'd', 'i', 'a', 't', 'e', 'c', 'o', 'n', 'v', 'i', 'c', 'w', 'q']\n",
      "{'o': 6, 'f': 4, 'h': 1, 'e': 7, 'r': 5, 'a': 6, 'c': 5, 't': 3, 'i': 7, 'n': 4, 'd': 3, 'y': 1, 'u': 3, 's': 4, 'p': 2, 'm': 2, 'v': 1, 'w': 1, 'q': 1}\n"
     ]
    }
   ],
   "source": [
    "import requests\n",
    "import string \n",
    "from collections import Counter\n",
    "\n",
    "ExampleText = 'of her affection.”\\r\\n\\r\\n“and your assurance of it, i suppose, carried immediate convic12331232WQ$!##$!!@#'\n",
    "ExampleText = ExampleText.lower() \n",
    "print(ExampleText)\n",
    "print(string.ascii_lowercase)\n",
    "LetterInText = [char for char in ExampleText]\n",
    "print(LetterInText)\n",
    "OnlyAsciiLowerCaseLetterInText = [char for char in ExampleText if char in string.ascii_lowercase]\n",
    "print(OnlyAsciiLowerCaseLetterInText)\n",
    "CounterChars = Counter(OnlyAsciiLowerCaseLetterInText)\n",
    "DictCounterChars = dict(CounterChars)\n",
    "print(DictCounterChars)"
   ]
  },
  {
   "cell_type": "code",
   "execution_count": null,
   "metadata": {},
   "outputs": [],
   "source": [
    "def GetFrequencyOfLettersInText(url: str) -> dict:\n",
    "    try:\n",
    "        r = requests.get(url)\n",
    "        r.raise_for_status \n",
    "    except requests.exceptions.HTTPError as errh:\n",
    "        print(\"HTTP error:\", errh)\n",
    "    Text = r.text.lower()\n",
    "    OnlyAsciiLowerCaseLetterInText = [char for char in Text if char in string.ascii_lowercase]\n",
    "    CounterCharInText = Counter(OnlyAsciiLowerCaseLetterInText)\n",
    "    DictCounterCharInText = dict(CounterCharInText)\n",
    "    \n",
    "    return DictCounterCharInText"
   ]
  },
  {
   "cell_type": "code",
   "execution_count": null,
   "metadata": {},
   "outputs": [
    {
     "name": "stdout",
     "output_type": "stream",
     "text": [
      "{'s': 34944, 't': 49343, 'a': 43826, 'r': 33983, 'o': 42033, 'f': 12619, 'h': 35634, 'e': 72593, 'p': 8711, 'j': 921, 'c': 14231, 'g': 10592, 'u': 15788, 'n': 39653, 'b': 9495, 'k': 3359, 'i': 40097, 'l': 23004, 'd': 23184, 'y': 13241, 'w': 12726, 'm': 15378, 'v': 6006, 'q': 649, 'x': 1004, 'z': 970}\n",
      "{'s': 5306, 't': 7400, 'a': 8684, 'r': 1785, 'o': 3723, 'f': 9, 'h': 1785, 'e': 6218, 'p': 1123, 'j': 1078, 'c': 398, 'g': 38, 'u': 3682, 'n': 7517, 'b': 66, 'k': 3809, 'l': 5017, 'i': 8856, 'v': 1751, 'm': 2262, 'y': 1729, 'w': 2, 'd': 525, 'z': 24}\n",
      "{'s': 18682, 't': 30049, 'a': 24642, 'r': 17596, 'o': 21610, 'f': 6785, 'h': 19725, 'e': 38638, 'p': 5284, 'j': 382, 'c': 6758, 'g': 6025, 'u': 6889, 'n': 18765, 'b': 4627, 'k': 1828, 'i': 18869, 'l': 10450, 'v': 2779, 'y': 6114, 'm': 6890, 'd': 10894, 'w': 7421, 'x': 350, 'z': 133, 'q': 263}\n"
     ]
    }
   ],
   "source": [
    "print(GetFrequencyOfLettersInText('https://www.gutenberg.org/files/1342/1342-0.txt'))\n",
    "print(GetFrequencyOfLettersInText('https://www.gutenberg.org/files/74775/74775-0.txt'))\n",
    "print(GetFrequencyOfLettersInText('https://www.gutenberg.org/files/74770/74770-0.txt'))"
   ]
  },
  {
   "cell_type": "markdown",
   "metadata": {},
   "source": [
    "**Task 4:**\n",
    "A function should be created to return the most popular words in a text (for example the most popular 10). Data should be returned in a dictionary.\n",
    "To do it, you can use this https://www.gutenberg.org/ website.\n",
    "\n",
    "One of examples: \"https://www.gutenberg.org/files/2701/2701-0.txt\"  # Moby Dick by Herman Melville  "
   ]
  },
  {
   "cell_type": "code",
   "execution_count": null,
   "metadata": {},
   "outputs": [
    {
     "name": "stdout",
     "output_type": "stream",
     "text": [
      "Orginal string: Lukasz\n",
      "Translated string: Ada\n"
     ]
    }
   ],
   "source": [
    "orginalString = 'Lukasz'\n",
    "firstString = 'Luk'\n",
    "secondString ='Ada'\n",
    "thirdString = 'asz'\n",
    "print(f'Orginal string: {orginalString}')\n",
    "translation = orginalString.maketrans(firstString,secondString,thirdString)\n",
    "translated = orginalString.translate(translation)\n",
    "print(f'Translated string: {translated}')"
   ]
  },
  {
   "cell_type": "code",
   "execution_count": 9,
   "metadata": {},
   "outputs": [],
   "source": [
    "import requests\n",
    "from collections import Counter \n",
    "import string\n",
    "\n",
    "def GetTheMostFrequentWordsInText(url: str, n: int) -> dict:\n",
    "    try:\n",
    "        r = requests.get(url)\n",
    "        r.raise_for_status \n",
    "    except requests.exceptions.HTTPError as errh:\n",
    "        print(\"HTTP error:\", errh)\n",
    "    Text = r.text.lower()\n",
    "    CleaningTextFromPunctuationChar = Text.maketrans(Text,Text,string.punctuation)\n",
    "    CleanedTextFromPunctuationChar = Text.translate(CleaningTextFromPunctuationChar)\n",
    "    SplitEachWordFromText = CleanedTextFromPunctuationChar.split()\n",
    "    CounterWords = Counter(SplitEachWordFromText).most_common(n)\n",
    "    DictCounterWords = dict(CounterWords)\n",
    "    return DictCounterWords"
   ]
  },
  {
   "cell_type": "code",
   "execution_count": 10,
   "metadata": {},
   "outputs": [
    {
     "name": "stdout",
     "output_type": "stream",
     "text": [
      "{'the': 14536, 'of': 6713, 'and': 6408, 'a': 4668, 'to': 4654, 'in': 4191, 'that': 2918, 'his': 2516, 'it': 2324, 'i': 1845}\n",
      "{'the': 30309, 'and': 28395, 'i': 21684, 'to': 20927, 'of': 18734, 'a': 16215, 'you': 14301, 'my': 13161, 'in': 12375, 'that': 11771, 'is': 9712, 'not': 9028, 'with': 8501, 'me': 8215, 'it': 8161}\n",
      "{'the': 2356, 'and': 1500, 'a': 1384, 'to': 1116, 'of': 1104, 'i': 1000, 'in': 790, 'he': 769, 'was': 760, 'that': 551, 'his': 488, 'it': 459, 'with': 416, 'at': 398, 'her': 377, 'had': 377, 'you': 356, 'she': 354, 'on': 350, 'for': 307}\n"
     ]
    }
   ],
   "source": [
    "print(GetTheMostFrequentWordsInText('https://www.gutenberg.org/files/2701/2701-0.txt',10))\n",
    "print(GetTheMostFrequentWordsInText('https://www.gutenberg.org/files/100/100-0.txt',15))\n",
    "print(GetTheMostFrequentWordsInText('https://www.gutenberg.org/files/64317/64317-0.txt',20))"
   ]
  },
  {
   "cell_type": "markdown",
   "metadata": {},
   "source": [
    "**Task 5**:\n",
    "A function should get exchange rates by using  https://www.x-rates.com/. Data should be returned as a dictionary.\n",
    "a) A rates table should be saved as a dictionary\n",
    "b) A Percent Change in the Last 24 hours should be saved as a dictionary\n",
    "c) A function that converse the value of currency (for example 1USD to 0.95 EUR) by writing symbols and amount."
   ]
  },
  {
   "cell_type": "code",
   "execution_count": null,
   "metadata": {},
   "outputs": [],
   "source": [
    "import requests \n",
    "from bs4 import BeautifulSoup\n",
    "\n",
    "def GetCurrencyExchangeTableUSD() -> dict:\n",
    "    url ='https://www.x-rates.com/table/?from=USD&amount=1'\n",
    "    try:\n",
    "        r = requests.get(url)\n",
    "        r.raise_for_status \n",
    "    except requests.exceptions.HTTPError as errh:\n",
    "        print(\"HTTP error:\", errh)\n",
    "    \n",
    "    RequestXRates = r.text \n",
    "    \n",
    "    soup = BeautifulSoup(RequestXRates,'html')  \n",
    "    #Looking for Currency\n",
    "    element_listCurrencySymbol = soup.find_all('td')\n",
    "    CurrencySymbol = [element.get_text() for element in element_listCurrencySymbol[0::3]]\n",
    "    CurrencySymbol.insert(0, 'USD') \n",
    "    #Looking for Value of Currency\n",
    "    element_listValueCurrency = soup.find_all('td')\n",
    "    ValueCurrency = [element.get_text() for element in element_listValueCurrency[1::3]]\n",
    "    ValueCurrency.insert(0, '1.00')\n",
    "    #Putting all data into Dictionary Comprehension\n",
    "    new_dict = {k : v for k, v in zip(CurrencySymbol, ValueCurrency)}\n",
    "    return new_dict  "
   ]
  },
  {
   "cell_type": "code",
   "execution_count": 12,
   "metadata": {},
   "outputs": [
    {
     "data": {
      "text/plain": [
       "{'USD': '1.00',\n",
       " 'Euro': '0.960875',\n",
       " 'British Pound': '0.798730',\n",
       " 'Indian Rupee': '84.474388',\n",
       " 'Australian Dollar': '1.540534',\n",
       " 'Canadian Dollar': '1.400548',\n",
       " 'Singapore Dollar': '1.348409',\n",
       " 'Swiss Franc': '0.888794',\n",
       " 'Malaysian Ringgit': '4.468239',\n",
       " 'Japanese Yen': '154.377743',\n",
       " 'Chinese Yuan Renminbi': '7.249458',\n",
       " 'Argentine Peso': '1004.029556',\n",
       " 'Bahraini Dinar': '0.376000',\n",
       " 'Botswana Pula': '13.670328',\n",
       " 'Brazilian Real': '5.814253',\n",
       " 'Bruneian Dollar': '1.348409',\n",
       " 'Bulgarian Lev': '1.879307',\n",
       " 'Chilean Peso': '973.803110',\n",
       " 'Colombian Peso': '4388.486261',\n",
       " 'Czech Koruna': '24.392061',\n",
       " 'Danish Krone': '7.166486',\n",
       " 'Hong Kong Dollar': '7.783670',\n",
       " 'Hungarian Forint': '394.939055',\n",
       " 'Icelandic Krona': '139.814037',\n",
       " 'Indonesian Rupiah': '15908.786329',\n",
       " 'Iranian Rial': '42097.787493',\n",
       " 'Israeli Shekel': '3.720103',\n",
       " 'Kazakhstani Tenge': '499.222261',\n",
       " 'South Korean Won': '1406.195619',\n",
       " 'Kuwaiti Dinar': '0.307846',\n",
       " 'Libyan Dinar': '4.892725',\n",
       " 'Mauritian Rupee': '46.777257',\n",
       " 'Mexican Peso': '20.469805',\n",
       " 'Nepalese Rupee': '135.222376',\n",
       " 'New Zealand Dollar': '1.713671',\n",
       " 'Norwegian Krone': '11.130439',\n",
       " 'Omani Rial': '0.384999',\n",
       " 'Pakistani Rupee': '278.098623',\n",
       " 'Philippine Peso': '58.958947',\n",
       " 'Polish Zloty': '4.173474',\n",
       " 'Qatari Riyal': '3.640000',\n",
       " 'Romanian New Leu': '4.781856',\n",
       " 'Russian Ruble': '102.878715',\n",
       " 'Saudi Arabian Riyal': '3.750000',\n",
       " 'South African Rand': '18.080059',\n",
       " 'Sri Lankan Rupee': '290.943798',\n",
       " 'Swedish Krona': '11.124175',\n",
       " 'Taiwan New Dollar': '32.605151',\n",
       " 'Thai Baht': '34.570192',\n",
       " 'Trinidadian Dollar': '6.783711',\n",
       " 'Turkish Lira': '34.513048',\n",
       " 'Emirati Dirham': '3.672500',\n",
       " 'Venezuelan Bolivar': '4626775.718700'}"
      ]
     },
     "execution_count": 12,
     "metadata": {},
     "output_type": "execute_result"
    }
   ],
   "source": [
    "GetCurrencyExchangeTableUSD()"
   ]
  },
  {
   "cell_type": "code",
   "execution_count": 13,
   "metadata": {},
   "outputs": [],
   "source": [
    "def GetPercentChangeInTheLast24Hours() -> dict:\n",
    "    url ='https://www.x-rates.com/table/?from=USD&amount=1'\n",
    "    try:\n",
    "        r = requests.get(url)\n",
    "        r.raise_for_status \n",
    "    except requests.exceptions.HTTPError as errh:\n",
    "        print(\"HTTP error:\", errh)\n",
    "    RequestXRates = r.text \n",
    "    soup = BeautifulSoup(RequestXRates,'html')  \n",
    "    #Looking for Percent Change in The Last 24 hours table\n",
    "    CurrencyPair = soup.find_all(class_='currencyPairUL')\n",
    "    CurrencyPercentChange = CurrencyPair[0].find_all('li')\n",
    "    # Getting Currency\n",
    "    Currency = [element.get_text()[:7] for element in CurrencyPercentChange]\n",
    "    Currency.insert(0,'Date')\n",
    "    \n",
    "    # Looking for date\n",
    "    Dates = soup.find_all('span',id='ratesTrendsTimestamp' )\n",
    "\n",
    "    DateList = [str(Date.get_text()) for Date in Dates]\n",
    "\n",
    "    DateList = ' '.join(DateList)\n",
    "    # Looking for Percent Change Values:\n",
    "    PercentChange = [element.get_text()[7::1] for element in CurrencyPercentChange]\n",
    "    PercentChange.insert(0,DateList)\n",
    "    PercentChange\n",
    "\n",
    "    PercentChangeInTheLast24HoursValues = {k:v for k,v in (zip(Currency,PercentChange))}\n",
    "    \n",
    "    return PercentChangeInTheLast24HoursValues"
   ]
  },
  {
   "cell_type": "code",
   "execution_count": 14,
   "metadata": {},
   "outputs": [
    {
     "data": {
      "text/plain": [
       "{'Date': 'Nov 22, 2024 09:53 UTC',\n",
       " 'EUR/USD': '-1.05531%',\n",
       " 'USD/JPY': '-0.01442%',\n",
       " 'GBP/USD': '-0.87859%',\n",
       " 'USD/CHF': '+0.57583%',\n",
       " 'USD/CAD': '+0.20319%',\n",
       " 'EUR/JPY': '-1.06958%',\n",
       " 'AUD/USD': '-0.26094%',\n",
       " 'CNY/USD': '-0.12112%'}"
      ]
     },
     "execution_count": 14,
     "metadata": {},
     "output_type": "execute_result"
    }
   ],
   "source": [
    "GetPercentChangeInTheLast24Hours()"
   ]
  },
  {
   "cell_type": "code",
   "execution_count": 15,
   "metadata": {},
   "outputs": [],
   "source": [
    "def ConvertingCurrency(From: str,To: str,Amount: float) -> float:\n",
    "    url = f'https://www.x-rates.com/calculator/?from={From}&to={To}&amount=1'\n",
    "    try:\n",
    "        r = requests.get(url)\n",
    "        r = r.text\n",
    "    except requests.exceptions.HTTPError as errh:\n",
    "        print(\"HTTP error:\", errh)\n",
    "    soup = BeautifulSoup(r,'html.parser')\n",
    "      \n",
    "    ToAmount = soup.find(class_='ccOutputRslt').text[:8]\n",
    "    Cal = float(Amount) * float(ToAmount)\n",
    "    Output = f'{Amount} {From} is {Cal} {To}'\n",
    "    return Output"
   ]
  },
  {
   "cell_type": "code",
   "execution_count": 16,
   "metadata": {},
   "outputs": [
    {
     "name": "stdout",
     "output_type": "stream",
     "text": [
      "123 EUR is 534.239553 PLN\n",
      "100 USD is 96.0875 EUR\n",
      "50 EUR is 52.0359 USD\n"
     ]
    }
   ],
   "source": [
    "print(ConvertingCurrency('EUR','PLN',123))\n",
    "print(ConvertingCurrency('USD','EUR',100))\n",
    "print(ConvertingCurrency('EUR','USD',50))"
   ]
  },
  {
   "cell_type": "markdown",
   "metadata": {},
   "source": [
    "**Task 6**: \n",
    "A function should return information about the best 10 movies from a https://www.imdb.com/chart/top/ website.\n",
    "Information should include title, year and ratings.\n",
    "Data should be returned as a List of Dictionary"
   ]
  },
  {
   "cell_type": "code",
   "execution_count": null,
   "metadata": {},
   "outputs": [],
   "source": [
    "import requests \n",
    "from bs4 import BeautifulSoup\n",
    "\n",
    "def GetTop10Movies() -> dict:\n",
    "    headers={'User-Agent':'Mozilla/5.0 (Windows NT 6.3; Win 64 ; x64) Apple WeKit /537.36(KHTML , like Gecko) Chrome/80.0.3987.162 Safari/537.36'}\n",
    "    url = \"https://www.imdb.com/chart/top/\"\n",
    "    try:\n",
    "        page = requests.get(url, headers = headers)\n",
    "        page.raise_for_status \n",
    "    except requests.exceptions.HTTPError as errh:\n",
    "        print(\"HTTP error:\", errh)\n",
    "    \n",
    "    page = page.text\n",
    "    soup = BeautifulSoup(page,'html.parser')\n",
    "    \n",
    "    #Looking for Movies name\n",
    "    \n",
    "    MovieName = soup.find_all('h3')\n",
    "    MovieNames = [Movie.get_text() for Movie in MovieName]\n",
    "    MovieNames = MovieNames[1:11]\n",
    "    #Looking for Year of Production for Movies\n",
    "\n",
    "    YearOfMovie = soup.find_all(class_='sc-6ade9358-7 exckou cli-title-metadata-item')\n",
    "    MovieYear = ListYear = [Year.get_text() for Year in YearOfMovie]\n",
    "    MovieYear = MovieYear[::3]\n",
    "    Top10MovieYear = MovieYear[0:11]\n",
    "    #Looking for ratings for each movie\n",
    "    \n",
    "    Ratings = soup.find_all(class_='ipc-rating-star--rating')\n",
    "    ListRating = [Raiting.get_text() for Raiting in Ratings]\n",
    "    ListRating = ListRating[1:11]\n",
    "    ListRating\n",
    "    #Put it on List of Dictionaries\n",
    "    Films = [{'Movie': Movie, 'year':year, 'rating':rating} for Movie,year, rating in zip(MovieNames,Top10MovieYear,ListRating)]\n",
    "    \n",
    "    return Films"
   ]
  },
  {
   "cell_type": "code",
   "execution_count": 18,
   "metadata": {},
   "outputs": [
    {
     "data": {
      "text/plain": [
       "[{'Movie': '1. Skazani na Shawshank', 'year': '1994', 'rating': '9.2'},\n",
       " {'Movie': '2. Ojciec chrzestny', 'year': '1972', 'rating': '9.0'},\n",
       " {'Movie': '3. Mroczny Rycerz', 'year': '2008', 'rating': '9.0'},\n",
       " {'Movie': '4. Ojciec chrzestny II', 'year': '1974', 'rating': '9.0'},\n",
       " {'Movie': '5. Dwunastu gniewnych ludzi', 'year': '1957', 'rating': '9.0'},\n",
       " {'Movie': '6. Władca Pierścieni: Powrót króla',\n",
       "  'year': '2003',\n",
       "  'rating': '9.0'},\n",
       " {'Movie': '7. Lista Schindlera', 'year': '1993', 'rating': '8.9'},\n",
       " {'Movie': '8. Pulp Fiction', 'year': '1994', 'rating': '8.9'},\n",
       " {'Movie': '9. Władca Pierścieni: Drużyna Pierścienia',\n",
       "  'year': '2001',\n",
       "  'rating': '8.8'},\n",
       " {'Movie': '10. Dobry, zły i brzydki', 'year': '1966', 'rating': '8.8'}]"
      ]
     },
     "execution_count": 18,
     "metadata": {},
     "output_type": "execute_result"
    }
   ],
   "source": [
    "GetTop10Movies()"
   ]
  },
  {
   "cell_type": "markdown",
   "metadata": {},
   "source": [
    "**Task 7**: \n",
    "A function should get the article's titles from a  https://blog.python.org/ webiste. \n",
    "Data should be retures as a list."
   ]
  },
  {
   "cell_type": "code",
   "execution_count": null,
   "metadata": {},
   "outputs": [],
   "source": [
    "import requests \n",
    "from bs4 import BeautifulSoup\n",
    "\n",
    "def GetArticleTitles() -> list:\n",
    "    url = \"https://blog.python.org/\"\n",
    "    try:\n",
    "        r = requests.get(url)\n",
    "        r.raise_for_status \n",
    "    except requests.exceptions.HTTPError as errh:\n",
    "        print(\"HTTP error:\", errh)\n",
    "    r = r.text\n",
    "    soup = BeautifulSoup(r,'html.parser')\n",
    "    \n",
    "    Titles = soup.find_all('h3',class_='post-title entry-title')\n",
    "    ListOfTitles = [Title.get_text().strip() for Title in Titles]\n",
    "    return ListOfTitles"
   ]
  },
  {
   "cell_type": "code",
   "execution_count": 20,
   "metadata": {},
   "outputs": [
    {
     "data": {
      "text/plain": [
       "['Python 3.14.0 alpha 2 released',\n",
       " 'Python 3.14.0 alpha 1 is now available',\n",
       " 'Python 3.13.0 (final) released',\n",
       " 'Python 3.12.7 released',\n",
       " 'Python 3.13.0 release candidate 3 released',\n",
       " 'Python 3.13.0RC2, 3.12.6, 3.11.10, 3.10.15, 3.9.20, and 3.8.20 are now available!',\n",
       " 'Python 3.12.5 released']"
      ]
     },
     "execution_count": 20,
     "metadata": {},
     "output_type": "execute_result"
    }
   ],
   "source": [
    "GetArticleTitles()"
   ]
  },
  {
   "cell_type": "markdown",
   "metadata": {},
   "source": [
    "**Task 8**:\n",
    "A function should return data from a https://api.open-meteo.com/ website by putting a city, latitude and longitude.\n",
    "Dataclass should hold values (latitude, longitude, windspeed and temperature) by using a Weather class. Data should be returned as a dictionary and saved as JSON files."
   ]
  },
  {
   "cell_type": "code",
   "execution_count": null,
   "metadata": {},
   "outputs": [],
   "source": [
    "import requests \n",
    "from dataclasses import dataclass, asdict\n",
    "import json\n",
    "from datetime import date \n",
    "def GetWeather(City: str, latitude: float, longitude: float) -> dict:\n",
    "    today = date.today()\n",
    "    url = f\"https://api.open-meteo.com/v1/forecast?latitude={latitude}&longitude={longitude}&current_weather=true&hourly=temperature_2m,relativehumidity_2m,windspeed_10m\"\n",
    "    try:\n",
    "        r = requests.get(url)\n",
    "        r.raise_for_status \n",
    "    except requests.exceptions.HTTPError as errh:\n",
    "        print(\"HTTP error:\", errh)\n",
    "    WeatherJSONData = r.json()\n",
    "    \n",
    "    @dataclass\n",
    "    class Weather:\n",
    "        Latitude: float\n",
    "        Longitude: float \n",
    "        Temperature: float \n",
    "        Windspeed: float \n",
    "        Winddrection: float \n",
    "    \n",
    "    Weather = Weather(\n",
    "    WeatherJSONData['latitude'],\n",
    "    WeatherJSONData['longitude'],\n",
    "    WeatherJSONData['current_weather']['temperature'],\n",
    "    WeatherJSONData['current_weather']['windspeed'],\n",
    "    WeatherJSONData['current_weather']['winddirection'])\n",
    "    \n",
    "    DictWeather = asdict(Weather)\n",
    "    \n",
    "    with open(f'{City} WeatherOpenMeteo {today}.json', 'w') as f:\n",
    "        json.dump(DictWeather,f)\n",
    "        \n",
    "        \n",
    "    return DictWeather\n"
   ]
  },
  {
   "cell_type": "code",
   "execution_count": null,
   "metadata": {},
   "outputs": [
    {
     "name": "stdout",
     "output_type": "stream",
     "text": [
      "{'Latitude': 51.764503, 'Longitude': 19.453964, 'Temperature': 1.5, 'Windspeed': 8.6, 'Winddrection': 269}\n",
      "{'Latitude': 52.23009, 'Longitude': 21.017075, 'Temperature': 1.8, 'Windspeed': 7.6, 'Winddrection': 231}\n",
      "{'Latitude': 51.5, 'Longitude': -0.120000124, 'Temperature': 3.8, 'Windspeed': 15.5, 'Winddrection': 266}\n",
      "{'Latitude': 47.38, 'Longitude': 8.539999, 'Temperature': -0.6, 'Windspeed': 6.5, 'Winddrection': 251}\n"
     ]
    }
   ],
   "source": [
    "print(GetWeather('Lodz',51.759445,19.457216))\n",
    "print(GetWeather('Warsaw',52.237049,21.017532))\n",
    "print(GetWeather('London',51.509865,-0.118092))\n",
    "print(GetWeather('Zurich',47.373878,8.545094))"
   ]
  },
  {
   "cell_type": "markdown",
   "metadata": {},
   "source": [
    "**Task 9**:\n",
    "A function generate password should be created that takes the name of the application and generates the password for it.\n",
    "Data should be saved in a text file."
   ]
  },
  {
   "cell_type": "code",
   "execution_count": 23,
   "metadata": {},
   "outputs": [],
   "source": [
    "import random \n",
    "import string"
   ]
  },
  {
   "cell_type": "code",
   "execution_count": 24,
   "metadata": {},
   "outputs": [
    {
     "name": "stdout",
     "output_type": "stream",
     "text": [
      "`J~A`oY!.?\n"
     ]
    }
   ],
   "source": [
    "characters = string.ascii_letters + string.digits + string.punctuation\n",
    "length = random.randint(4,29)\n",
    "randomcharacters = random.choice(characters)\n",
    "password = []\n",
    "\n",
    "for i in range(length):\n",
    "    characters = string.ascii_letters + string.digits + string.punctuation\n",
    "    length = random.randint(4,29)\n",
    "    randomcharacters = random.choice(characters)\n",
    "    password.append(randomcharacters)\n",
    "\n",
    "password = ''.join(password)    \n",
    "print(password)"
   ]
  },
  {
   "cell_type": "code",
   "execution_count": 25,
   "metadata": {},
   "outputs": [
    {
     "data": {
      "text/plain": [
       "'W4d\\'G\"Bi'"
      ]
     },
     "execution_count": 25,
     "metadata": {},
     "output_type": "execute_result"
    }
   ],
   "source": [
    "GeneratedPassword = [random.choice(characters) for i in range(length)]\n",
    "''.join(GeneratedPassword)"
   ]
  },
  {
   "cell_type": "code",
   "execution_count": 26,
   "metadata": {},
   "outputs": [
    {
     "name": "stdout",
     "output_type": "stream",
     "text": [
      "RkhH5(]$-w%\n"
     ]
    }
   ],
   "source": [
    "def generate_password():\n",
    "    length = random.randint(8, 32)\n",
    "    characters = string.ascii_letters + string.digits + string.punctuation \n",
    "    password = ''.join(random.choice(characters) for i in range(length))\n",
    "    return password \n",
    "\n",
    "print(generate_password())"
   ]
  },
  {
   "cell_type": "code",
   "execution_count": 27,
   "metadata": {},
   "outputs": [],
   "source": [
    "def generate_password_for_app(Application: str) -> str:\n",
    "    length = random.randint(8, 32)\n",
    "    characters = string.ascii_letters + string.digits + string.punctuation \n",
    "    password = ''.join(random.choice(characters) for i in range(length))\n",
    "    Text = Application + ': ' + password\n",
    "\n",
    "    with open('Passwords.txt', 'a') as f:\n",
    "        f.write(Text + ' \\n')    "
   ]
  },
  {
   "cell_type": "code",
   "execution_count": 28,
   "metadata": {},
   "outputs": [],
   "source": [
    "generate_password_for_app(Application=input('Enter your application to generate password for its'))"
   ]
  },
  {
   "cell_type": "markdown",
   "metadata": {},
   "source": [
    "**Task 9**:\n",
    "A function should gain information about the schedule in Switerland between cities from https://transport.opendata.ch/docs.html website. Data should include a connection between two cities (for example Zurich and Basel), platforms, arrival and departure time, stations and time. Dataclass should hold these values by using a class. Data should be returned as a dictionary and saved as JSON files."
   ]
  },
  {
   "cell_type": "code",
   "execution_count": 29,
   "metadata": {},
   "outputs": [
    {
     "name": "stdout",
     "output_type": "stream",
     "text": [
      "Quantity of stations: 4\n",
      "Stations on the route on the fourth schedule:\n",
      "Zürich HB\n",
      "Hauenstein-Basistunnel\n",
      "Basel SBB\n"
     ]
    }
   ],
   "source": [
    "import requests \n",
    "from dataclasses import dataclass, asdict\n",
    "import json\n",
    "from datetime import datetime, date\n",
    "\n",
    "url = 'http://transport.opendata.ch/v1/connections?from=Zurich&to=Basel'\n",
    "r = requests.get(url)\n",
    "TransportData = r.json()\n",
    "print(f'Quantity of stations: {len(TransportData)}')\n",
    "#Looking for first station in nested json:\n",
    "TransportData['connections'][0]['sections'][0]['journey']['passList'][0]['station']['name']\n",
    "FourthScheduleTransportStations = TransportData['connections'][3]['sections'][0]['journey']['passList']\n",
    "print('Stations on the route on the fourth schedule:')       \n",
    "for Station in FourthScheduleTransportStations:\n",
    "    stations = Station['station']\n",
    "    print(stations['name'])"
   ]
  },
  {
   "cell_type": "code",
   "execution_count": null,
   "metadata": {},
   "outputs": [],
   "source": [
    "def GetStationBetweenCitySwiss(FromCity: str, ToCity: str) -> str:\n",
    "    url = f'http://transport.opendata.ch/v1/connections?from={FromCity}&to={ToCity}'\n",
    "    r = requests.get(url)\n",
    "    TransportData = r.json()\n",
    "    TransportData['connections'][0]['sections'][0]['journey']['passList'][0]['station']['name']\n",
    "    FirstScheduleTransportStations = TransportData['connections'][0]['sections'][0]['journey']['passList']\n",
    "    SecondScheduleTransportStations = TransportData['connections'][1]['sections'][0]['journey']['passList']\n",
    "    ThirdScheduleTransportStations = TransportData['connections'][2]['sections'][0]['journey']['passList']\n",
    "    FourthScheduleTransportStations = TransportData['connections'][3]['sections'][0]['journey']['passList']\n",
    "    print('Stations on the route on the first schedule:')\n",
    "    FirstSchedule = [Station['station']['name'] for Station in FirstScheduleTransportStations]\n",
    "    print(FirstSchedule)\n",
    "    print('Stations on the route on the second schedule:')  \n",
    "    SecondSchedule = [Station['station']['name'] for Station in SecondScheduleTransportStations]\n",
    "    print(SecondSchedule)\n",
    "    print('Stations on the route on the third schedule:')    \n",
    "    ThirdSchedule = [Station['station']['name'] for Station in ThirdScheduleTransportStations]   \n",
    "    print(ThirdSchedule)\n",
    "    print('Stations on the route on the fourth schedule:')           \n",
    "    FourthSchedule = [Station['station']['name'] for Station in FourthScheduleTransportStations]  \n",
    "    print(FourthSchedule)"
   ]
  },
  {
   "cell_type": "code",
   "execution_count": 31,
   "metadata": {},
   "outputs": [
    {
     "name": "stdout",
     "output_type": "stream",
     "text": [
      "Stations on the route on the first schedule:\n",
      "['Zürich HB', 'Bahn-2000-Strecke', 'Bern']\n",
      "Stations on the route on the second schedule:\n",
      "['Zürich HB', 'Baden', 'Brugg AG', 'Aarau', 'Olten', 'Bahn-2000-Strecke', 'Bern']\n",
      "Stations on the route on the third schedule:\n",
      "['Zürich HB', 'Bahn-2000-Strecke', 'Bern']\n",
      "Stations on the route on the fourth schedule:\n",
      "['Zürich HB', 'Lenzburg', 'Aarau']\n",
      "Stations on the route on the first schedule:\n",
      "['Zürich HB', 'Hauenstein-Basistunnel', 'Basel SBB']\n",
      "Stations on the route on the second schedule:\n",
      "['Zürich HB', 'Lenzburg', 'Aarau', 'Sissach', 'Liestal', 'Basel SBB']\n",
      "Stations on the route on the third schedule:\n",
      "['Zürich HB', 'Zürich Altstetten', 'Dietikon', 'Baden', 'Brugg AG', 'Frick', 'Rheinfelden', 'Basel SBB']\n",
      "Stations on the route on the fourth schedule:\n",
      "['Zürich HB', 'Hauenstein-Basistunnel', 'Basel SBB']\n"
     ]
    }
   ],
   "source": [
    "GetStationBetweenCitySwiss(\"Zurich\",\"Bern\")\n",
    "GetStationBetweenCitySwiss(\"Zurich\",\"Basel\")\n",
    "#GetStationBetweenCitySwiss(\"Zurich\",\"Lucern\")\n",
    "#GetStationBetweenCitySwiss(\"Zurich\",\"Lausanne\")\n",
    "#GetStationBetweenCitySwiss(\"Zurich\",\"Geneve\")\n"
   ]
  },
  {
   "cell_type": "code",
   "execution_count": null,
   "metadata": {},
   "outputs": [],
   "source": [
    "def GetTransportSwiss(FromCity: str, ToCity:str) -> str:\n",
    "    today = date.today()\n",
    "    url = f'http://transport.opendata.ch/v1/connections?from={FromCity}&to={ToCity}'\n",
    "    r = requests.get(url)\n",
    "    TransportData = r.json()\n",
    "    #Looking for arrival and departure from nested json\n",
    "    FirstScheduleDeparture = TransportData['connections'][0]['from']\n",
    "    FirstScheduleArrival = TransportData['connections'][0]['to']\n",
    "    #Calculating Time of Traveling between two places:\n",
    "    Arrival = datetime.fromtimestamp(FirstScheduleArrival['arrivalTimestamp'])\n",
    "    Departure = datetime.fromtimestamp(FirstScheduleDeparture['departureTimestamp'])\n",
    "    TimeOfTravel = (Departure - Arrival).total_seconds() / 60.0\n",
    "    TimeOfTravel = f'{abs(TimeOfTravel):.0f} minutes'\n",
    "    #Looking for stations between two places\n",
    "    FirstScheduleStations = TransportData['connections'][0]['sections'][0]['journey']['passList']\n",
    "    FirstScheduleListCompNameOfStation =[NameOfStation['station']['name'] for NameOfStation in FirstScheduleStations]\n",
    "    #Defining dataclass\n",
    "    @dataclass\n",
    "    class FirstScheduleTransport:\n",
    "        From: str \n",
    "        To: str \n",
    "        Departure: str \n",
    "        DepartureTimeStamp: int \n",
    "        DeparturePlatform: int \n",
    "        Arrival: str \n",
    "        ArrivalTimeStamp: int \n",
    "        ArrivalPlatform: int \n",
    "        Stations: str\n",
    "        TimeOfTravel: int \n",
    "    #storing objects in dataclass\n",
    "    FirstScheduleTransport = FirstScheduleTransport(\n",
    "        FirstScheduleDeparture['station']['name'],\n",
    "        FirstScheduleArrival['station']['name'],\n",
    "        FirstScheduleDeparture['departure'],\n",
    "        FirstScheduleDeparture['departureTimestamp'],\n",
    "        FirstScheduleDeparture['platform'],\n",
    "        FirstScheduleArrival['arrival'],\n",
    "        FirstScheduleArrival['arrivalTimestamp'],\n",
    "        FirstScheduleArrival['platform'],\n",
    "        FirstScheduleListCompNameOfStation,\n",
    "        TimeOfTravel\n",
    "    )\n",
    "    \n",
    "    DictFirstScheduleTransport = asdict(FirstScheduleTransport)\n",
    "    \n",
    "    with open(f'Transport Swiss Schedule between {FromCity} and {ToCity} from {today}.json','w') as f:\n",
    "        json.dump(DictFirstScheduleTransport, f)\n",
    "        \n",
    "    return DictFirstScheduleTransport"
   ]
  },
  {
   "cell_type": "code",
   "execution_count": 33,
   "metadata": {},
   "outputs": [
    {
     "data": {
      "text/plain": [
       "{'From': 'Zürich HB',\n",
       " 'To': 'Bern',\n",
       " 'Departure': '2024-11-22T11:02:00+0100',\n",
       " 'DepartureTimeStamp': 1732269720,\n",
       " 'DeparturePlatform': '31',\n",
       " 'Arrival': '2024-11-22T11:58:00+0100',\n",
       " 'ArrivalTimeStamp': 1732273080,\n",
       " 'ArrivalPlatform': '8',\n",
       " 'Stations': ['Zürich HB', 'Bahn-2000-Strecke', 'Bern'],\n",
       " 'TimeOfTravel': '56 minutes'}"
      ]
     },
     "execution_count": 33,
     "metadata": {},
     "output_type": "execute_result"
    }
   ],
   "source": [
    "GetTransportSwiss(\"Zurich\",\"Bern\")"
   ]
  },
  {
   "cell_type": "code",
   "execution_count": 34,
   "metadata": {},
   "outputs": [
    {
     "data": {
      "text/plain": [
       "{'From': 'Zürich HB',\n",
       " 'To': 'Basel SBB',\n",
       " 'Departure': '2024-11-22T10:59:00+0100',\n",
       " 'DepartureTimeStamp': 1732269540,\n",
       " 'DeparturePlatform': '13',\n",
       " 'Arrival': '2024-11-22T11:53:00+0100',\n",
       " 'ArrivalTimeStamp': 1732272780,\n",
       " 'ArrivalPlatform': '11',\n",
       " 'Stations': ['Zürich HB', 'Hauenstein-Basistunnel', 'Basel SBB'],\n",
       " 'TimeOfTravel': '54 minutes'}"
      ]
     },
     "execution_count": 34,
     "metadata": {},
     "output_type": "execute_result"
    }
   ],
   "source": [
    "GetTransportSwiss(\"Zurich\",\"Basel\")"
   ]
  },
  {
   "cell_type": "code",
   "execution_count": 35,
   "metadata": {},
   "outputs": [
    {
     "data": {
      "text/plain": [
       "{'From': 'Zürich HB',\n",
       " 'To': 'Luzern',\n",
       " 'Departure': '2024-11-22T11:10:00+0100',\n",
       " 'DepartureTimeStamp': 1732270200,\n",
       " 'DeparturePlatform': '4!',\n",
       " 'Arrival': '2024-11-22T11:51:00+0100',\n",
       " 'ArrivalTimeStamp': 1732272660,\n",
       " 'ArrivalPlatform': '6',\n",
       " 'Stations': ['Zürich HB', 'Zug', 'Luzern'],\n",
       " 'TimeOfTravel': '41 minutes'}"
      ]
     },
     "execution_count": 35,
     "metadata": {},
     "output_type": "execute_result"
    }
   ],
   "source": [
    "GetTransportSwiss(\"Zurich\",\"Luzern\")"
   ]
  },
  {
   "cell_type": "code",
   "execution_count": 36,
   "metadata": {},
   "outputs": [
    {
     "data": {
      "text/plain": [
       "{'From': 'Zürich HB',\n",
       " 'To': 'Genève',\n",
       " 'Departure': '2024-11-22T11:04:00+0100',\n",
       " 'DepartureTimeStamp': 1732269840,\n",
       " 'DeparturePlatform': '32',\n",
       " 'Arrival': '2024-11-22T13:47:00+0100',\n",
       " 'ArrivalTimeStamp': 1732279620,\n",
       " 'ArrivalPlatform': '3',\n",
       " 'Stations': ['Zürich HB',\n",
       "  'Aarau',\n",
       "  'Olten',\n",
       "  'Bahn-2000-Strecke',\n",
       "  'Solothurn',\n",
       "  'Biel/Bienne',\n",
       "  'Neuchâtel',\n",
       "  'Yverdon-les-Bains',\n",
       "  'Morges',\n",
       "  'Genève'],\n",
       " 'TimeOfTravel': '163 minutes'}"
      ]
     },
     "execution_count": 36,
     "metadata": {},
     "output_type": "execute_result"
    }
   ],
   "source": [
    "GetTransportSwiss(\"Zurich\",\"Geneve\")"
   ]
  },
  {
   "cell_type": "code",
   "execution_count": 37,
   "metadata": {},
   "outputs": [
    {
     "data": {
      "text/plain": [
       "{'From': 'St. Gallen',\n",
       " 'To': 'Zürich HB',\n",
       " 'Departure': '2024-11-22T10:58:00+0100',\n",
       " 'DepartureTimeStamp': 1732269480,\n",
       " 'DeparturePlatform': '2',\n",
       " 'Arrival': '2024-11-22T11:57:00+0100',\n",
       " 'ArrivalTimeStamp': 1732273020,\n",
       " 'ArrivalPlatform': '32',\n",
       " 'Stations': ['St. Gallen', 'Winterthur', 'Zürich Flughafen', 'Zürich HB'],\n",
       " 'TimeOfTravel': '59 minutes'}"
      ]
     },
     "execution_count": 37,
     "metadata": {},
     "output_type": "execute_result"
    }
   ],
   "source": [
    "GetTransportSwiss(\"St. Gallen\",\"Zurich\")"
   ]
  },
  {
   "cell_type": "code",
   "execution_count": 38,
   "metadata": {},
   "outputs": [
    {
     "data": {
      "text/plain": [
       "{'From': 'Biel/Bienne',\n",
       " 'To': 'Zürich HB',\n",
       " 'Departure': '2024-11-22T11:17:00+0100',\n",
       " 'DepartureTimeStamp': 1732270620,\n",
       " 'DeparturePlatform': '3',\n",
       " 'Arrival': '2024-11-22T12:30:00+0100',\n",
       " 'ArrivalTimeStamp': 1732275000,\n",
       " 'ArrivalPlatform': '16',\n",
       " 'Stations': ['Biel/Bienne',\n",
       "  'Grenchen Süd',\n",
       "  'Solothurn',\n",
       "  'Oensingen',\n",
       "  'Olten',\n",
       "  'Zürich HB'],\n",
       " 'TimeOfTravel': '73 minutes'}"
      ]
     },
     "execution_count": 38,
     "metadata": {},
     "output_type": "execute_result"
    }
   ],
   "source": [
    "GetTransportSwiss(\"Biel\",\"Zurich\")"
   ]
  },
  {
   "cell_type": "code",
   "execution_count": 39,
   "metadata": {},
   "outputs": [
    {
     "data": {
      "text/plain": [
       "{'From': 'Basel SBB',\n",
       " 'To': 'Lugano',\n",
       " 'Departure': '2024-11-22T11:03:00+0100',\n",
       " 'DepartureTimeStamp': 1732269780,\n",
       " 'DeparturePlatform': '7',\n",
       " 'Arrival': '2024-11-22T13:58:00+0100',\n",
       " 'ArrivalTimeStamp': 1732280280,\n",
       " 'ArrivalPlatform': '2',\n",
       " 'Stations': ['Basel SBB',\n",
       "  'Olten',\n",
       "  'Luzern',\n",
       "  'Rotsee',\n",
       "  'Arth-Goldau',\n",
       "  'Altdorf UR',\n",
       "  'Gotthard-Basistunnel',\n",
       "  'Bellinzona',\n",
       "  'Lugano'],\n",
       " 'TimeOfTravel': '175 minutes'}"
      ]
     },
     "execution_count": 39,
     "metadata": {},
     "output_type": "execute_result"
    }
   ],
   "source": [
    "GetTransportSwiss(\"Basel\",\"Lugano\")"
   ]
  }
 ],
 "metadata": {
  "kernelspec": {
   "display_name": "Python 3 (ipykernel)",
   "language": "python",
   "name": "python3"
  },
  "language_info": {
   "codemirror_mode": {
    "name": "ipython",
    "version": 3
   },
   "file_extension": ".py",
   "mimetype": "text/x-python",
   "name": "python",
   "nbconvert_exporter": "python",
   "pygments_lexer": "ipython3",
   "version": "3.11.4"
  }
 },
 "nbformat": 4,
 "nbformat_minor": 2
}
